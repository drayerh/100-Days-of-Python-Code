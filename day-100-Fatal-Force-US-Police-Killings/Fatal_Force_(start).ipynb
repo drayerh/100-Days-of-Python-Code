{
 "cells": [
  {
   "cell_type": "markdown",
   "metadata": {
    "id": "0KrR-Qd_wXf-"
   },
   "source": [
    "# Introduction"
   ]
  },
  {
   "cell_type": "markdown",
   "metadata": {
    "id": "I6e2m4XsuRoL"
   },
   "source": [
    "Since Jan. 1, 2015, [The Washington Post](https://www.washingtonpost.com/) has been compiling a database of every fatal shooting in the US by a police officer in the line of duty. \n",
    "\n",
    "<center><img src=https://i.imgur.com/sX3K62b.png></center>\n",
    "\n",
    "While there are many challenges regarding data collection and reporting, The Washington Post has been tracking more than a dozen details about each killing. This includes the race, age and gender of the deceased, whether the person was armed, and whether the victim was experiencing a mental-health crisis. The Washington Post has gathered this supplemental information from law enforcement websites, local new reports, social media, and by monitoring independent databases such as \"Killed by police\" and \"Fatal Encounters\". The Post has also conducted additional reporting in many cases.\n",
    "\n",
    "There are 4 additional datasets: US census data on poverty rate, high school graduation rate, median household income, and racial demographics. [Source of census data](https://factfinder.census.gov/faces/nav/jsf/pages/community_facts.xhtml)."
   ]
  },
  {
   "cell_type": "markdown",
   "metadata": {
    "id": "JwGJl3mnw2Af"
   },
   "source": [
    "### Upgrade Plotly\n",
    "\n",
    "Run the cell below if you are working with Google Colab"
   ]
  },
  {
   "cell_type": "code",
   "execution_count": null,
   "metadata": {
    "colab": {
     "base_uri": "https://localhost:8080/"
    },
    "id": "KvA9PBoRwvQG",
    "outputId": "ca6ee2a1-8da5-4f2d-f2b2-ea019cd92cae"
   },
   "outputs": [],
   "source": [
    "%pip install --upgrade plotly"
   ]
  },
  {
   "cell_type": "markdown",
   "metadata": {
    "id": "jqXsMLNJxELp"
   },
   "source": [
    "## Import Statements"
   ]
  },
  {
   "cell_type": "code",
   "execution_count": null,
   "metadata": {
    "id": "TPhEXC2FxGSr"
   },
   "outputs": [],
   "source": [
    "import numpy as np\n",
    "import pandas as pd\n",
    "import plotly.express as px\n",
    "import matplotlib.pyplot as plt\n",
    "import seaborn as sns\n",
    "\n",
    "# This might be helpful:\n",
    "from collections import Counter"
   ]
  },
  {
   "cell_type": "markdown",
   "metadata": {
    "id": "SwKGmmaLxS2s"
   },
   "source": [
    "## Notebook Presentation"
   ]
  },
  {
   "cell_type": "code",
   "execution_count": null,
   "metadata": {
    "id": "ayQQqhKtxBxj"
   },
   "outputs": [],
   "source": [
    "pd.options.display.float_format = '{:,.2f}'.format"
   ]
  },
  {
   "cell_type": "markdown",
   "metadata": {
    "id": "nKxJMOiMyAUF"
   },
   "source": [
    "## Load the Data"
   ]
  },
  {
   "cell_type": "code",
   "execution_count": null,
   "metadata": {
    "_cell_guid": "abb0685f-f844-43f8-84c0-4cd54361c7bf",
    "_uuid": "9c06ed7c41db79ae9d940f2d52aeff23621b3037",
    "id": "8KmGeg6ouRoP"
   },
   "outputs": [],
   "source": [
    "df_hh_income = pd.read_csv('Median_Household_Income_2015.csv', encoding=\"windows-1252\")\n",
    "df_pct_poverty = pd.read_csv('Pct_People_Below_Poverty_Level.csv', encoding=\"windows-1252\")\n",
    "df_pct_completed_hs = pd.read_csv('Pct_Over_25_Completed_High_School.csv', encoding=\"windows-1252\")\n",
    "df_share_race_city = pd.read_csv('Share_of_Race_By_City.csv', encoding=\"windows-1252\")\n",
    "df_fatalities = pd.read_csv('Deaths_by_Police_US.csv', encoding=\"windows-1252\")"
   ]
  },
  {
   "cell_type": "markdown",
   "metadata": {
    "id": "6RuA5SvUyEaB"
   },
   "source": [
    "# Preliminary Data Exploration\n",
    "\n",
    "* What is the shape of the DataFrames? \n",
    "* How many rows and columns do they have?\n",
    "* What are the column names?\n",
    "* Are there any NaN values or duplicates?"
   ]
  },
  {
   "cell_type": "code",
   "execution_count": null,
   "metadata": {
    "id": "3U9RcS1WyrRJ"
   },
   "outputs": [],
   "source": [
    "# Shapes and column names\n",
    "print(df_hh_income.shape)\n",
    "print(df_pct_poverty.shape)\n",
    "print(df_pct_completed_hs.shape)\n",
    "print(df_share_race_city.shape)\n",
    "print(df_fatalities.shape)\n"
   ]
  },
  {
   "cell_type": "code",
   "execution_count": null,
   "metadata": {},
   "outputs": [],
   "source": [
    "\n",
    "print(df_hh_income.columns)\n",
    "print(df_pct_poverty.columns)\n",
    "print(df_pct_completed_hs.columns)\n",
    "print(df_share_race_city.columns)\n",
    "print(df_fatalities.columns)"
   ]
  },
  {
   "cell_type": "code",
   "execution_count": null,
   "metadata": {
    "id": "DmIARadGyrgs"
   },
   "outputs": [],
   "source": [
    "# Check for missing values and duplicates\n",
    "print(df_hh_income.isna().sum())\n",
    "print(df_pct_poverty.isna().sum())\n",
    "print(df_pct_completed_hs.isna().sum())\n",
    "print(df_share_race_city.isna().sum())\n",
    "print(df_fatalities.isna().sum())"
   ]
  },
  {
   "cell_type": "code",
   "execution_count": null,
   "metadata": {
    "id": "OSgTJoX7yrcS"
   },
   "outputs": [],
   "source": [
    "print(df_hh_income.duplicated().sum())\n",
    "print(df_pct_poverty.duplicated().sum())\n",
    "print(df_pct_completed_hs.duplicated().sum())\n",
    "print(df_share_race_city.duplicated().sum())\n",
    "print(df_fatalities.duplicated().sum())"
   ]
  },
  {
   "cell_type": "markdown",
   "metadata": {
    "id": "p72TfMvayr2C"
   },
   "source": [
    "## Data Cleaning - Check for Missing Values and Duplicates\n",
    "\n",
    "Consider how to deal with the NaN values. Perhaps substituting 0 is appropriate. "
   ]
  },
  {
   "cell_type": "code",
   "execution_count": null,
   "metadata": {
    "id": "WEZuPaXvyxxp"
   },
   "outputs": [],
   "source": [
    "# Example: fill NaNs with 0 (adapt as needed per dataset)\n",
    "df_hh_income.fillna(0, inplace=True)\n",
    "df_pct_poverty.fillna(0, inplace=True)\n",
    "df_pct_completed_hs.fillna(0, inplace=True)\n",
    "df_share_race_city.fillna(0, inplace=True)\n",
    "df_fatalities.fillna(0, inplace=True)\n"
   ]
  },
  {
   "cell_type": "markdown",
   "metadata": {
    "_uuid": "52b308c936f5835c5cd186497fe3f96e96372483",
    "id": "n3DrcXVQuRoZ"
   },
   "source": [
    "# Chart the Poverty Rate in each US State\n",
    "\n",
    "Create a bar chart that ranks the poverty rate from highest to lowest by US state. Which state has the highest poverty rate? Which state has the lowest poverty rate?  Bar Plot"
   ]
  },
  {
   "cell_type": "code",
   "execution_count": null,
   "metadata": {
    "id": "mGxEzMDqzqmn"
   },
   "outputs": [],
   "source": [
    "# See the column names and sample values\n",
    "print(df_pct_poverty.columns)\n",
    "print(df_pct_poverty[['Geographic Area', 'poverty_rate']].head())\n"
   ]
  },
  {
   "cell_type": "code",
   "execution_count": null,
   "metadata": {
    "id": "B3AM6oJQ1D_P"
   },
   "outputs": [],
   "source": [
    "# Convert poverty_rate to numeric, forcing errors to NaN\n",
    "df_pct_poverty['poverty_rate'] = pd.to_numeric(df_pct_poverty['poverty_rate'], errors='coerce')"
   ]
  },
  {
   "cell_type": "code",
   "execution_count": null,
   "metadata": {},
   "outputs": [],
   "source": [
    "df_pct_poverty_sorted = df_pct_poverty.sort_values('poverty_rate', ascending=False)\n",
    "plt.figure(figsize=(12,6))\n",
    "sns.barplot(data=df_pct_poverty_sorted, x='Geographic Area', y='poverty_rate')\n",
    "plt.xticks(rotation=90)\n",
    "plt.title('Poverty Rate by US State')\n",
    "plt.tight_layout()\n",
    "plt.show()\n"
   ]
  },
  {
   "cell_type": "markdown",
   "metadata": {
    "id": "GhUibVz5z4sn"
   },
   "source": [
    "# Chart the High School Graduation Rate by US State\n",
    "\n",
    "Show the High School Graduation Rate in ascending order of US States. Which state has the lowest high school graduation rate? Which state has the highest?"
   ]
  },
  {
   "cell_type": "code",
   "execution_count": null,
   "metadata": {
    "id": "laD6W9eG0JFR"
   },
   "outputs": [],
   "source": [
    "df_pct_completed_hs['percent_completed_hs'] = pd.to_numeric(df_pct_completed_hs['percent_completed_hs'], errors='coerce')\n"
   ]
  },
  {
   "cell_type": "code",
   "execution_count": null,
   "metadata": {},
   "outputs": [],
   "source": [
    "df_pct_completed_hs_sorted = df_pct_completed_hs.sort_values('percent_completed_hs')\n",
    "plt.figure(figsize=(12,6))\n",
    "sns.barplot(data=df_pct_completed_hs_sorted, x='Geographic Area', y='percent_completed_hs')\n",
    "plt.xticks(rotation=90)\n",
    "plt.title('High School Graduation Rate by US State')\n",
    "plt.tight_layout()\n",
    "plt.show()\n"
   ]
  },
  {
   "cell_type": "markdown",
   "metadata": {
    "id": "ENGTEmPQ0Rvt"
   },
   "source": [
    "# Visualise the Relationship between Poverty Rates and High School Graduation Rates\n",
    "\n",
    "#### Create a line chart with two y-axes to show if the rations of poverty and high school graduation move together.  "
   ]
  },
  {
   "cell_type": "code",
   "execution_count": null,
   "metadata": {},
   "outputs": [],
   "source": [
    "# See the column names and sample values\n",
    "print(df_pct_poverty.columns)\n",
    "print(df_pct_poverty[['Geographic Area', 'poverty_rate']].head())\n"
   ]
  },
  {
   "cell_type": "code",
   "execution_count": null,
   "metadata": {},
   "outputs": [],
   "source": [
    "# Strip column names of leading/trailing spaces\n",
    "df_pct_poverty.columns = df_pct_poverty.columns.str.strip()\n",
    "\n",
    "# Convert poverty_rate to numeric, forcing errors to NaN\n",
    "df_pct_poverty['poverty_rate'] = pd.to_numeric(df_pct_poverty['poverty_rate'], errors='coerce')\n"
   ]
  },
  {
   "cell_type": "code",
   "execution_count": null,
   "metadata": {},
   "outputs": [],
   "source": [
    "import matplotlib.pyplot as plt\n",
    "import matplotlib as mpl\n",
    "mpl.rcParams['agg.path.chunksize'] = 10000  # Prevent overflow\n",
    "\n",
    "# Merge and sort the data\n",
    "merged_df = pd.merge(df_pct_poverty, df_pct_completed_hs, on='Geographic Area')\n",
    "merged_df = merged_df.sort_values('Geographic Area')\n",
    "\n",
    "# Create the plot\n",
    "fig, ax1 = plt.subplots(figsize=(14, 6))\n",
    "ax2 = ax1.twinx()\n",
    "\n",
    "# Plot poverty rate and graduation rate\n",
    "ax1.plot(merged_df['Geographic Area'], merged_df['poverty_rate'], 'g-', label='Poverty Rate')\n",
    "ax2.plot(merged_df['Geographic Area'], merged_df['percent_completed_hs'], 'b-', label='Graduation Rate')\n",
    "\n",
    "# Set axis labels\n",
    "ax1.set_xlabel('State')\n",
    "ax1.set_ylabel('Poverty Rate (%)', color='g')\n",
    "ax2.set_ylabel('Graduation Rate (%)', color='b')\n",
    "\n",
    "# Rotate x-axis labels for clarity\n",
    "plt.xticks(rotation=90)\n",
    "plt.title('Poverty Rate vs. High School Graduation Rate by State')\n",
    "\n",
    "# Layout adjustment\n",
    "plt.tight_layout()\n",
    "plt.show()\n",
    "\n"
   ]
  },
  {
   "cell_type": "markdown",
   "metadata": {
    "id": "Zavx_8PL1Jy9"
   },
   "source": [
    "#### Now use a Seaborn .jointplot() with a Kernel Density Estimate (KDE) and/or scatter plot to visualise the same relationship"
   ]
  },
  {
   "cell_type": "code",
   "execution_count": null,
   "metadata": {
    "id": "u77CHfdX0pjW"
   },
   "outputs": [],
   "source": [
    "sns.jointplot(data=merged_df, x='poverty_rate', y='percent_completed_hs', kind='kde')\n",
    "sns.jointplot(data=merged_df, x='poverty_rate', y='percent_completed_hs', kind='scatter')\n"
   ]
  },
  {
   "cell_type": "markdown",
   "metadata": {
    "id": "PXNFQmHl10Fx"
   },
   "source": [
    "#### Seaborn's `.lmplot()` or `.regplot()` to show a linear regression between the poverty ratio and the high school graduation ratio. "
   ]
  },
  {
   "cell_type": "code",
   "execution_count": null,
   "metadata": {
    "id": "F1xrjFgT1znI"
   },
   "outputs": [],
   "source": [
    "sns.lmplot(data=merged_df, x='poverty_rate', y='percent_completed_hs')\n"
   ]
  },
  {
   "cell_type": "markdown",
   "metadata": {
    "id": "QJTbZZKg0p6i"
   },
   "source": [
    "# Create a Bar Chart with Subsections Showing the Racial Makeup of Each US State\n",
    "\n",
    "Visualise the share of the white, black, hispanic, asian and native american population in each US State using a bar chart with sub sections. "
   ]
  },
  {
   "cell_type": "code",
   "execution_count": null,
   "metadata": {
    "id": "YQbXb6Ex09D9"
   },
   "outputs": [],
   "source": [
    "df_share_race_city.set_index('Geographic Area', inplace=True)\n",
    "df_share_race_city[['White', 'Black', 'Hispanic', 'Asian', 'Native American']].plot(\n",
    "    kind='bar', stacked=True, figsize=(14,7))\n",
    "plt.title('Racial Composition by US State')\n",
    "plt.ylabel('Percentage')\n",
    "plt.xticks(rotation=90)\n",
    "plt.show()\n"
   ]
  },
  {
   "cell_type": "markdown",
   "metadata": {
    "_uuid": "77493cfd86a031612be8fb8d60f27713e74e6d80",
    "id": "K7xvQXkjuRo7"
   },
   "source": [
    "# Create Donut Chart by of People Killed by Race\n",
    "\n",
    "Hint: Use `.value_counts()`"
   ]
  },
  {
   "cell_type": "code",
   "execution_count": null,
   "metadata": {
    "id": "1nOafPdy1u9Z"
   },
   "outputs": [],
   "source": [
    "race_counts = df_fatalities['race'].value_counts()\n",
    "plt.figure(figsize=(8,8))\n",
    "plt.pie(race_counts, labels=race_counts.index, autopct='%1.1f%%', startangle=140, wedgeprops=dict(width=0.4))\n",
    "plt.title('Deaths by Race')\n",
    "plt.show()\n"
   ]
  },
  {
   "cell_type": "markdown",
   "metadata": {
    "id": "kr-8Rezn3Bep"
   },
   "source": [
    "# Create a Chart Comparing the Total Number of Deaths of Men and Women\n",
    "\n",
    "Use `df_fatalities` to illustrate how many more men are killed compared to women. "
   ]
  },
  {
   "cell_type": "code",
   "execution_count": null,
   "metadata": {
    "id": "joH1L4303BsJ"
   },
   "outputs": [],
   "source": [
    "gender_counts = df_fatalities['gender'].value_counts()\n",
    "sns.barplot(x=gender_counts.index, y=gender_counts.values)\n",
    "plt.title('Total Deaths by Gender')\n",
    "plt.ylabel('Number of Deaths')\n",
    "plt.show()\n"
   ]
  },
  {
   "cell_type": "markdown",
   "metadata": {
    "_uuid": "cd1531c8421bfb6967cebf7039056779f9b960a6",
    "id": "ZxbBdvM0uRpQ"
   },
   "source": [
    "# Create a Box Plot Showing the Age and Manner of Death\n",
    "\n",
    "Break out the data by gender using `df_fatalities`. Is there a difference between men and women in the manner of death? "
   ]
  },
  {
   "cell_type": "code",
   "execution_count": null,
   "metadata": {
    "id": "WdPPZLJY2shA"
   },
   "outputs": [],
   "source": [
    "plt.figure(figsize=(12,6))\n",
    "sns.boxplot(data=df_fatalities, x='manner_of_death', y='age')\n",
    "plt.title('Distribution of Age by Manner of Death')\n",
    "plt.show()\n"
   ]
  },
  {
   "cell_type": "markdown",
   "metadata": {
    "id": "h1pAgkyb3Xb0"
   },
   "source": [
    "# Were People Armed? \n",
    "\n",
    "In what percentage of police killings were people armed? Create chart that show what kind of weapon (if any) the deceased was carrying. How many of the people killed by police were armed with guns versus unarmed? "
   ]
  },
  {
   "cell_type": "code",
   "execution_count": null,
   "metadata": {
    "id": "0d9B3Pec4TdM"
   },
   "outputs": [],
   "source": [
    "# Count the types of weapons\n",
    "weapon_counts = df_fatalities['armed'].value_counts()\n",
    "plt.figure(figsize=(10, 6))\n",
    "sns.barplot(y=weapon_counts.index, x=weapon_counts.values)\n",
    "plt.xlabel('Number of Fatalities')\n",
    "plt.ylabel('Weapon')\n",
    "plt.title('Weapons Carried by People Killed by Police')\n",
    "plt.show()\n"
   ]
  },
  {
   "cell_type": "code",
   "execution_count": null,
   "metadata": {},
   "outputs": [],
   "source": [
    "armed_status = df_fatalities['armed'].apply(lambda x: 'Unarmed' if 'unarmed' in str(x).lower() else 'Armed')\n",
    "armed_status.value_counts(normalize=True) * 100\n"
   ]
  },
  {
   "cell_type": "markdown",
   "metadata": {
    "id": "IgD2a5-L4W_I"
   },
   "source": [
    "# How Old Were the People Killed?"
   ]
  },
  {
   "cell_type": "markdown",
   "metadata": {
    "id": "BNPrdT-W9lf3"
   },
   "source": [
    "Work out what percentage of people killed were under 25 years old.  "
   ]
  },
  {
   "cell_type": "code",
   "execution_count": null,
   "metadata": {
    "id": "zSyDgzb542O9"
   },
   "outputs": [],
   "source": [
    "under_25 = df_fatalities[df_fatalities['age'] < 25]\n",
    "percent_under_25 = len(under_25) / len(df_fatalities) * 100\n",
    "print(f\"{percent_under_25:.2f}% of people killed were under 25 years old.\")\n"
   ]
  },
  {
   "cell_type": "markdown",
   "metadata": {
    "id": "5XrAD_ey9qBB"
   },
   "source": [
    "Create a histogram and KDE plot that shows the distribution of ages of the people killed by police. "
   ]
  },
  {
   "cell_type": "code",
   "execution_count": null,
   "metadata": {
    "id": "U6B1Qp7l42H8"
   },
   "outputs": [],
   "source": [
    "plt.figure(figsize=(10,6))\n",
    "sns.histplot(df_fatalities['age'].dropna(), kde=True, bins=30)\n",
    "plt.title('Age Distribution of People Killed by Police')\n",
    "plt.xlabel('Age')\n",
    "plt.show()\n"
   ]
  },
  {
   "cell_type": "markdown",
   "metadata": {
    "id": "zcqqPDo79rTx"
   },
   "source": [
    "Create a seperate KDE plot for each race. Is there a difference between the distributions? "
   ]
  },
  {
   "cell_type": "code",
   "execution_count": null,
   "metadata": {
    "id": "ubUnMjok43Zo"
   },
   "outputs": [],
   "source": [
    "plt.figure(figsize=(12,6))\n",
    "for race in df_fatalities['race'].dropna().unique():\n",
    "    sns.kdeplot(df_fatalities[df_fatalities['race'] == race]['age'].dropna(), label=race, shade=True)\n",
    "plt.title('Age Distribution by Race')\n",
    "plt.xlabel('Age')\n",
    "plt.legend()\n",
    "plt.show()\n"
   ]
  },
  {
   "cell_type": "markdown",
   "metadata": {
    "id": "JkcHvMUt43uE"
   },
   "source": [
    "# Race of People Killed\n",
    "\n",
    "Create a chart that shows the total number of people killed by race. "
   ]
  },
  {
   "cell_type": "code",
   "execution_count": null,
   "metadata": {
    "id": "e8wZvBrt5BEb"
   },
   "outputs": [],
   "source": [
    "race_counts = df_fatalities['race'].value_counts()\n",
    "sns.barplot(x=race_counts.index, y=race_counts.values)\n",
    "plt.title('Total Deaths by Race')\n",
    "plt.xlabel('Race')\n",
    "plt.ylabel('Number of Deaths')\n",
    "plt.show()\n"
   ]
  },
  {
   "cell_type": "markdown",
   "metadata": {
    "id": "SJaNm4rC5nWm"
   },
   "source": [
    "# Mental Illness and Police Killings\n",
    "\n",
    "What percentage of people killed by police have been diagnosed with a mental illness?"
   ]
  },
  {
   "cell_type": "code",
   "execution_count": null,
   "metadata": {
    "id": "dbuGvCnN5ytC"
   },
   "outputs": [],
   "source": [
    "mental_illness_counts = df_fatalities['mental_illness'].value_counts(normalize=True) * 100\n",
    "mental_illness_counts\n"
   ]
  },
  {
   "cell_type": "markdown",
   "metadata": {
    "id": "R0WSPeKD5Cir"
   },
   "source": [
    "# In Which Cities Do the Most Police Killings Take Place?\n",
    "\n",
    "Create a chart ranking the top 10 cities with the most police killings. Which cities are the most dangerous?  "
   ]
  },
  {
   "cell_type": "code",
   "execution_count": null,
   "metadata": {
    "id": "NYVwo3qy5UV3"
   },
   "outputs": [],
   "source": [
    "top_cities = df_fatalities['city'].value_counts().head(10)\n",
    "sns.barplot(y=top_cities.index, x=top_cities.values)\n",
    "plt.title('Top 10 Cities by Number of Police Killings')\n",
    "plt.xlabel('Number of Fatalities')\n",
    "plt.ylabel('City')\n",
    "plt.show()\n"
   ]
  },
  {
   "cell_type": "markdown",
   "metadata": {
    "id": "AqcOW6ca8JMD"
   },
   "source": [
    "# Rate of Death by Race\n",
    "\n",
    "Find the share of each race in the top 10 cities. Contrast this with the top 10 cities of police killings to work out the rate at which people are killed by race for each city. "
   ]
  },
  {
   "cell_type": "code",
   "execution_count": null,
   "metadata": {
    "id": "FkjAUlKy8I2g"
   },
   "outputs": [],
   "source": [
    "top10_cities = df_fatalities['city'].value_counts().head(10).index.tolist()\n",
    "top10_df = df_fatalities[df_fatalities['city'].isin(top10_cities)]\n",
    "\n",
    "race_city_group = top10_df.groupby(['city', 'race']).size().unstack().fillna(0)\n",
    "race_city_group.plot(kind='bar', stacked=True, figsize=(14,7))\n",
    "plt.title('Police Killings by Race in Top 10 Cities')\n",
    "plt.ylabel('Number of Deaths')\n",
    "plt.xticks(rotation=45)\n",
    "plt.show()\n"
   ]
  },
  {
   "cell_type": "markdown",
   "metadata": {
    "id": "1HUJksrI5WFb"
   },
   "source": [
    "# Create a Choropleth Map of Police Killings by US State\n",
    "\n",
    "Which states are the most dangerous? Compare your map with your previous chart. Are these the same states with high degrees of poverty? "
   ]
  },
  {
   "cell_type": "code",
   "execution_count": null,
   "metadata": {
    "id": "u3UuX4Yo5dBA"
   },
   "outputs": [],
   "source": [
    "state_killings = df_fatalities['state'].value_counts().reset_index()\n",
    "state_killings.columns = ['state', 'deaths']\n",
    "\n",
    "fig = px.choropleth(state_killings,\n",
    "                    locations='state',\n",
    "                    locationmode='USA-states',\n",
    "                    color='deaths',\n",
    "                    scope='usa',\n",
    "                    title='Police Killings by US State')\n",
    "fig.show()\n"
   ]
  },
  {
   "cell_type": "markdown",
   "metadata": {
    "id": "37UsmVYF6hA2"
   },
   "source": [
    "# Number of Police Killings Over Time\n",
    "\n",
    "Analyse the Number of Police Killings over Time. Is there a trend in the data? "
   ]
  },
  {
   "cell_type": "code",
   "execution_count": null,
   "metadata": {
    "id": "nITf1IhP6gpI"
   },
   "outputs": [],
   "source": [
    "df_fatalities['date'] = pd.to_datetime(df_fatalities['date'], errors='coerce')\n",
    "killings_over_time = df_fatalities['date'].dt.to_period('M').value_counts().sort_index()\n",
    "\n",
    "killings_over_time.plot(kind='line', figsize=(12,6))\n",
    "plt.title('Police Killings Over Time')\n",
    "plt.xlabel('Date')\n",
    "plt.ylabel('Number of Deaths')\n",
    "plt.grid(True)\n",
    "plt.show()\n"
   ]
  },
  {
   "cell_type": "markdown",
   "metadata": {
    "id": "9o6uLFpS61nw"
   },
   "source": [
    "# Epilogue\n",
    "\n",
    "Now that you have analysed the data yourself, read [The Washington Post's analysis here](https://www.washingtonpost.com/graphics/investigations/police-shootings-database/)."
   ]
  },
  {
   "cell_type": "code",
   "execution_count": null,
   "metadata": {
    "id": "8PjgzuNa61I1"
   },
   "outputs": [],
   "source": [
    "Res ipsa loquitur!"
   ]
  }
 ],
 "metadata": {
  "colab": {
   "name": "Fatal Force (start).ipynb",
   "provenance": []
  },
  "kernelspec": {
   "display_name": "Python 3 (ipykernel)",
   "language": "python",
   "name": "python3"
  },
  "language_info": {
   "codemirror_mode": {
    "name": "ipython",
    "version": 3
   },
   "file_extension": ".py",
   "mimetype": "text/x-python",
   "name": "python",
   "nbconvert_exporter": "python",
   "pygments_lexer": "ipython3",
   "version": "3.12.7"
  }
 },
 "nbformat": 4,
 "nbformat_minor": 4
}
